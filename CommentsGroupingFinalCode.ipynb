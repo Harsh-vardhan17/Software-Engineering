{
 "cells": [
  {
   "cell_type": "markdown",
   "id": "c40eee66-2284-49cd-8a91-5db65768b870",
   "metadata": {},
   "source": [
    "### Project Title: Grouping StackOverflow Comments to improve Software Develpment Practices"
   ]
  },
  {
   "cell_type": "markdown",
   "id": "390053f9-5c2c-4fee-b3fa-e7fa444ba6d7",
   "metadata": {},
   "source": [
    "#### We have merged post and comments dataset pased on post id and saved it as Comments_Ds.csv"
   ]
  },
  {
   "cell_type": "code",
   "execution_count": 34,
   "id": "2bac6c78-451d-4137-894b-9f849b6eada2",
   "metadata": {},
   "outputs": [],
   "source": [
    "import pandas as pd\n",
    "import warnings\n",
    "\n",
    "warnings.filterwarnings(\"ignore\")\n",
    "\n",
    "# Read the comments.csv files into DataFrames\n",
    "df_comments = pd.read_csv('Comments_Ds.csv')\n",
    "\n"
   ]
  },
  {
   "cell_type": "markdown",
   "id": "50bacc42-20f4-494f-8fa3-a8d247fd4917",
   "metadata": {},
   "source": [
    "#### Below blocks shows the total number of comments and posts used in this grouping"
   ]
  },
  {
   "cell_type": "code",
   "execution_count": 35,
   "id": "f233dced-3cf6-4b29-b7e8-57e3975cb8bb",
   "metadata": {},
   "outputs": [
    {
     "data": {
      "text/plain": [
       "(345529, 12)"
      ]
     },
     "execution_count": 35,
     "metadata": {},
     "output_type": "execute_result"
    }
   ],
   "source": [
    "df_comments.shape"
   ]
  },
  {
   "cell_type": "code",
   "execution_count": 72,
   "id": "efff6434-ce9f-43f6-bb2c-d7870dd20d4d",
   "metadata": {},
   "outputs": [
    {
     "data": {
      "text/plain": [
       "41794"
      ]
     },
     "execution_count": 72,
     "metadata": {},
     "output_type": "execute_result"
    }
   ],
   "source": [
    "df_comments['post_id'].nunique()"
   ]
  },
  {
   "cell_type": "code",
   "execution_count": 36,
   "id": "530afa9a-6ee0-4254-94e6-340650aa6752",
   "metadata": {},
   "outputs": [
    {
     "data": {
      "text/plain": [
       "Index(['id', 'post_type_id', 'parent_id', 'score', 'title', 'body', 'tags',\n",
       "       'comment_count', 'comment_id', 'post_id', 'text', 'user_id'],\n",
       "      dtype='object')"
      ]
     },
     "execution_count": 36,
     "metadata": {},
     "output_type": "execute_result"
    }
   ],
   "source": [
    "df_comments.columns"
   ]
  },
  {
   "cell_type": "code",
   "execution_count": 37,
   "id": "081b4c63-b644-43eb-aceb-cd6837db5af5",
   "metadata": {},
   "outputs": [
    {
     "name": "stderr",
     "output_type": "stream",
     "text": [
      "[nltk_data] Downloading package stopwords to\n",
      "[nltk_data]     C:\\Users\\DHANASHREE\\AppData\\Roaming\\nltk_data...\n",
      "[nltk_data]   Package stopwords is already up-to-date!\n",
      "[nltk_data] Downloading package punkt to\n",
      "[nltk_data]     C:\\Users\\DHANASHREE\\AppData\\Roaming\\nltk_data...\n",
      "[nltk_data]   Package punkt is already up-to-date!\n",
      "[nltk_data] Downloading package wordnet to\n",
      "[nltk_data]     C:\\Users\\DHANASHREE\\AppData\\Roaming\\nltk_data...\n",
      "[nltk_data]   Package wordnet is already up-to-date!\n"
     ]
    }
   ],
   "source": [
    "import numpy as np\n",
    "import re\n",
    "import string\n",
    "import nltk\n",
    "nltk.download('stopwords')\n",
    "nltk.download('punkt')\n",
    "nltk.download('wordnet')\n",
    "from nltk.corpus import stopwords\n",
    "from nltk.stem import WordNetLemmatizer\n",
    "from scipy.sparse import hstack"
   ]
  },
  {
   "cell_type": "markdown",
   "id": "d7b90f73-a15d-42b0-a8c8-1757041da482",
   "metadata": {},
   "source": [
    "#### Text Preprocessing"
   ]
  },
  {
   "cell_type": "code",
   "execution_count": 38,
   "id": "f4075f64-7314-4679-8daa-a1507711ad23",
   "metadata": {},
   "outputs": [],
   "source": [
    "# Initialize WordNet lemmatizer\n",
    "lemmatizer = WordNetLemmatizer()\n",
    "\n",
    "# Define preprocessing function\n",
    "def preprocess(text):\n",
    "    # Remove URLs\n",
    "    text = re.sub(r'http\\S+', '', text)\n",
    "    \n",
    "    # Remove numbers\n",
    "    text = re.sub(r'\\d+', '', text)\n",
    "        \n",
    "    # Remove punctuation except for @ and #\n",
    "    #text = re.sub(r'[^\\w\\s#@]', '', text)\n",
    "    \n",
    "    # Remove punctuation\n",
    "    text = text.translate(str.maketrans('', '', string.punctuation))    \n",
    "    \n",
    "    # Convert text to lowercase\n",
    "    text = text.lower()\n",
    "    \n",
    "    # Tokenize text into individual words\n",
    "    words = nltk.word_tokenize(text)\n",
    "    \n",
    "    # Remove stop words\n",
    "    stop_words = set(stopwords.words('english'))\n",
    "    words = [word for word in words if word not in stop_words]\n",
    "    \n",
    "    # Lemmatize words\n",
    "    words = [lemmatizer.lemmatize(word) for word in words]\n",
    "    \n",
    "    # Join words back into a single string separated by space\n",
    "    text = ' '.join(words)\n",
    "    \n",
    "    return text\n",
    "\n",
    "\n",
    "# Preprocess comments\n",
    "df_comments['preprocessed_text'] = df_comments['text'].apply(preprocess)"
   ]
  },
  {
   "cell_type": "markdown",
   "id": "fdd128f9-d080-454e-ba9c-18f1639eb50f",
   "metadata": {},
   "source": [
    "#### Calculating length for the Comment Text to use it as a feature"
   ]
  },
  {
   "cell_type": "code",
   "execution_count": 39,
   "id": "70e563f7-635a-43b9-9cc9-c6a5b27d9409",
   "metadata": {},
   "outputs": [],
   "source": [
    " # Calculate the length of each comment\n",
    "df_comments['length'] = df_comments['preprocessed_text'].apply(len)\n"
   ]
  },
  {
   "cell_type": "code",
   "execution_count": 40,
   "id": "08f30a02-3981-44f9-8f0c-8e4295906b40",
   "metadata": {},
   "outputs": [
    {
     "data": {
      "text/html": [
       "<div>\n",
       "<style scoped>\n",
       "    .dataframe tbody tr th:only-of-type {\n",
       "        vertical-align: middle;\n",
       "    }\n",
       "\n",
       "    .dataframe tbody tr th {\n",
       "        vertical-align: top;\n",
       "    }\n",
       "\n",
       "    .dataframe thead th {\n",
       "        text-align: right;\n",
       "    }\n",
       "</style>\n",
       "<table border=\"1\" class=\"dataframe\">\n",
       "  <thead>\n",
       "    <tr style=\"text-align: right;\">\n",
       "      <th></th>\n",
       "      <th>id</th>\n",
       "      <th>post_type_id</th>\n",
       "      <th>parent_id</th>\n",
       "      <th>score</th>\n",
       "      <th>title</th>\n",
       "      <th>body</th>\n",
       "      <th>tags</th>\n",
       "      <th>comment_count</th>\n",
       "      <th>comment_id</th>\n",
       "      <th>post_id</th>\n",
       "      <th>text</th>\n",
       "      <th>user_id</th>\n",
       "      <th>preprocessed_text</th>\n",
       "      <th>length</th>\n",
       "    </tr>\n",
       "  </thead>\n",
       "  <tbody>\n",
       "    <tr>\n",
       "      <th>0</th>\n",
       "      <td>11</td>\n",
       "      <td>1</td>\n",
       "      <td>-999</td>\n",
       "      <td>31</td>\n",
       "      <td>How can I tweak my Linux desktop to be more re...</td>\n",
       "      <td>&lt;p&gt;I have the experience that Linux works fine...</td>\n",
       "      <td>&lt;linux&gt;&lt;kernel&gt;&lt;performance&gt;&lt;io&gt;&lt;swap&gt;</td>\n",
       "      <td>8</td>\n",
       "      <td>849</td>\n",
       "      <td>11</td>\n",
       "      <td>This is a known issue with the linux kernel......</td>\n",
       "      <td>29</td>\n",
       "      <td>known issue linux kernel believe read recently...</td>\n",
       "      <td>84</td>\n",
       "    </tr>\n",
       "  </tbody>\n",
       "</table>\n",
       "</div>"
      ],
      "text/plain": [
       "   id  post_type_id  parent_id  score  \\\n",
       "0  11             1       -999     31   \n",
       "\n",
       "                                               title  \\\n",
       "0  How can I tweak my Linux desktop to be more re...   \n",
       "\n",
       "                                                body  \\\n",
       "0  <p>I have the experience that Linux works fine...   \n",
       "\n",
       "                                     tags  comment_count  comment_id  post_id  \\\n",
       "0  <linux><kernel><performance><io><swap>              8         849       11   \n",
       "\n",
       "                                                text  user_id  \\\n",
       "0  This is a known issue with the linux kernel......       29   \n",
       "\n",
       "                                   preprocessed_text  length  \n",
       "0  known issue linux kernel believe read recently...      84  "
      ]
     },
     "execution_count": 40,
     "metadata": {},
     "output_type": "execute_result"
    }
   ],
   "source": [
    "df_comments.head(1)"
   ]
  },
  {
   "cell_type": "markdown",
   "id": "2da63cfe-6635-4f5a-8fc2-c156763323b9",
   "metadata": {},
   "source": [
    "#### Clustering the comments for each post and we have used '3' clusters"
   ]
  },
  {
   "cell_type": "code",
   "execution_count": 41,
   "id": "cc1c3d8c-3f9f-4f38-b95d-7465bd8ecfcf",
   "metadata": {},
   "outputs": [],
   "source": [
    "from sklearn.cluster import KMeans\n",
    "from sklearn.feature_extraction.text import TfidfVectorizer\n",
    "import numpy as np\n",
    "\n",
    "# Define the number of clusters\n",
    "num_clusters = 3\n",
    "\n",
    "# Concatenate the 'preprocessed_text', 'length', and 'user_id' columns into a single text column\n",
    "df_comments['feature_text'] = df_comments.apply(lambda x: x['preprocessed_text'] + '|' + str(x['length']) + '|' + str(x['user_id']), axis=1)\n",
    "\n",
    "# Create a TfidfVectorizer object to convert comments to a numeric matrix of TF-IDF features\n",
    "vectorizer = TfidfVectorizer(stop_words='english')\n",
    "\n",
    "# Create a dictionary to store the cluster labels for each post\n",
    "post_clusters_pre = {}\n",
    "\n",
    "# Group the comments by post_id\n",
    "grouped_comments_pre = df_comments.groupby('post_id')"
   ]
  },
  {
   "cell_type": "code",
   "execution_count": 42,
   "id": "60d0ef17-241c-4149-aa62-0e9fe761fbcb",
   "metadata": {},
   "outputs": [],
   "source": [
    "# Loop through each post's comments and perform clustering\n",
    "for post_id, group in grouped_comments_pre:\n",
    "    # Convert the comments to a matrix of TF-IDF features\n",
    "    comment_features = vectorizer.fit_transform(group['feature_text'])\n",
    "\n",
    "    # Concatenate the 'length' and 'user_id' columns with the TF-IDF matrix\n",
    "    comment_length = group['length'].values.reshape(-1, 1)\n",
    "    comment_user = group['user_id'].values.reshape(-1, 1)\n",
    "    comment_features = np.concatenate((comment_features.toarray(), comment_length, comment_user), axis=1)\n",
    "\n",
    "    # Perform k-means clustering on the comment features\n",
    "    km = KMeans(n_clusters=num_clusters)\n",
    "    km.fit(comment_features)\n",
    "\n",
    "    # Create a dictionary to store the cluster labels for this post\n",
    "    post_labels = {}\n",
    "\n",
    "    # Loop through each comment in this post and store its cluster label\n",
    "    for i, comment_id in enumerate(group['comment_id']):\n",
    "        post_labels[comment_id] = km.labels_[i]\n",
    "\n",
    "    # Add the post dictionary to the post_clusters dictionary\n",
    "    post_clusters_pre[post_id] = post_labels\n"
   ]
  },
  {
   "cell_type": "markdown",
   "id": "975ed191-20a1-47c6-8463-80af548aa32b",
   "metadata": {},
   "source": [
    "#### List is created for each post, comment and its label and converted to dataframe for assessing the accuracy"
   ]
  },
  {
   "cell_type": "code",
   "execution_count": 51,
   "id": "84b75507-c446-4727-8426-85ae2d3565e7",
   "metadata": {},
   "outputs": [],
   "source": [
    "# Create an empty list to store the data\n",
    "data = []\n",
    "\n",
    "# Loop through each post and its labels\n",
    "for post_id, post_labels in post_clusters_pre.items():\n",
    "    # Loop through each comment and its label\n",
    "    for comment_id, label in post_labels.items():\n",
    "        # Append the data to the list\n",
    "        data.append({\n",
    "            'post_id': post_id,\n",
    "            'comment_id': comment_id,\n",
    "            'cluster_label': label\n",
    "        })\n",
    "\n",
    "# Convert the list to a dataframe\n",
    "df_clusters_pre = pd.DataFrame(data)\n"
   ]
  },
  {
   "cell_type": "markdown",
   "id": "f4b9a989-9fcb-404d-b12c-cd5743bc73da",
   "metadata": {},
   "source": [
    "#### We have manually labelled 1004 posts to evaluate the clustering algorithm"
   ]
  },
  {
   "cell_type": "code",
   "execution_count": 58,
   "id": "0886b42d-1d16-4d43-997f-692bce16659c",
   "metadata": {},
   "outputs": [],
   "source": [
    "df_eval_clusters = pd.read_csv('FinalEvaldata.csv')"
   ]
  },
  {
   "cell_type": "code",
   "execution_count": 59,
   "id": "a743fcd4-1632-434a-825a-cb7d16d82bb3",
   "metadata": {},
   "outputs": [
    {
     "data": {
      "text/plain": [
       "(8416, 3)"
      ]
     },
     "execution_count": 59,
     "metadata": {},
     "output_type": "execute_result"
    }
   ],
   "source": [
    "df_eval_clusters.shape"
   ]
  },
  {
   "cell_type": "code",
   "execution_count": 60,
   "id": "9e30a45a-f217-41a1-be49-03fc35e4bf71",
   "metadata": {},
   "outputs": [
    {
     "data": {
      "text/plain": [
       "1004"
      ]
     },
     "execution_count": 60,
     "metadata": {},
     "output_type": "execute_result"
    }
   ],
   "source": [
    "df_eval_clusters['post_id'].nunique()"
   ]
  },
  {
   "cell_type": "code",
   "execution_count": 61,
   "id": "32949313-4cd7-4254-8264-6d21e60737e2",
   "metadata": {},
   "outputs": [],
   "source": [
    "from sklearn.metrics import adjusted_rand_score, adjusted_mutual_info_score\n",
    "\n",
    "# Merge the two dataframes on post_id and comment_id\n",
    "df_merged = df_clusters_pre.merge(df_eval_clusters, on=['post_id', 'comment_id'])"
   ]
  },
  {
   "cell_type": "code",
   "execution_count": 62,
   "id": "ccf93511-939b-4284-8afb-fb51fcdd2b0e",
   "metadata": {},
   "outputs": [
    {
     "name": "stdout",
     "output_type": "stream",
     "text": [
      "ARI:  0.9175833703538012\n",
      "AMI:  0.8634694222118062\n"
     ]
    }
   ],
   "source": [
    "\n",
    "# Compute the ARI and AMI scores\n",
    "ari = adjusted_rand_score(df_merged['cluster_label_x'], df_merged['cluster_label_y'])\n",
    "ami = adjusted_mutual_info_score(df_merged['cluster_label_x'], df_merged['cluster_label_y'])\n",
    "\n",
    "# Print the scores\n",
    "print(\"ARI: \", ari)\n",
    "print(\"AMI: \", ami)\n"
   ]
  },
  {
   "cell_type": "code",
   "execution_count": 66,
   "id": "8800f1ba-3132-483c-aac8-1e6cd1a64daa",
   "metadata": {},
   "outputs": [
    {
     "name": "stdout",
     "output_type": "stream",
     "text": [
      "Accuracy: 97.13640684410646\n"
     ]
    }
   ],
   "source": [
    "# Compute the accuracy of the clustering\n",
    "accuracy = (df_merged['cluster_label_x'] == df_merged['cluster_label_y']).mean()\n",
    "print('Accuracy:', accuracy*100)"
   ]
  },
  {
   "cell_type": "markdown",
   "id": "388e3ab8-45cf-4e4f-9cd9-d8187fd2c35f",
   "metadata": {},
   "source": [
    "#### Visualization of the Result using Confusion Matrix"
   ]
  },
  {
   "cell_type": "code",
   "execution_count": 70,
   "id": "4b408e26-a551-4562-9c17-d8347ce12764",
   "metadata": {},
   "outputs": [
    {
     "name": "stdout",
     "output_type": "stream",
     "text": [
      "Confusion Matrix:\n",
      " [[3537   32   13    0]\n",
      " [  57 2592   32    0]\n",
      " [  59   47 2046    0]\n",
      " [   0    1    0    0]]\n"
     ]
    }
   ],
   "source": [
    "from sklearn.metrics import confusion_matrix\n",
    "\n",
    "# Compute the confusion matrix\n",
    "cm = confusion_matrix(df_merged['cluster_label_y'], df_merged['cluster_label_x'])\n",
    "\n",
    "# Print the confusion matrix\n",
    "print(\"Confusion Matrix:\\n\", cm)"
   ]
  },
  {
   "cell_type": "code",
   "execution_count": 71,
   "id": "d3e87440-f420-4941-8ce4-df5a4c142856",
   "metadata": {},
   "outputs": [
    {
     "data": {
      "image/png": "[encoded data removed]",
      "text/plain": [
       "<Figure size 640x480 with 2 Axes>"
      ]
     },
     "metadata": {},
     "output_type": "display_data"
    }
   ],
   "source": [
    "import seaborn as sns\n",
    "# Create a heatmap of the confusion matrix\n",
    "sns.heatmap(cm, annot=True, cmap='Blues', fmt='g')\n",
    "\n",
    "# Set the axis labels and title\n",
    "plt.xlabel('Predicted label')\n",
    "plt.ylabel('True label')\n",
    "plt.title('Confusion Matrix')\n",
    "\n",
    "# Show the plot\n",
    "plt.show()\n"
   ]
  },
  {
   "cell_type": "markdown",
   "id": "a62daab3-2a1e-420a-9d01-4b1c43417981",
   "metadata": {},
   "source": [
    "#### The confusion matrix shows that:\n",
    "\n",
    "#### 3,537 instances of class 0 were correctly classified as class 0, 57 were incorrectly classified as class 1, and 59 were incorrectly classified as class 2.\n",
    "#### 2,592 instances of class 1 were correctly classified as class 1, 32 were incorrectly classified as class 0, and 47 were incorrectly classified as class 2.\n",
    "#### 2,046 instances of class 2 were correctly classified as class 2, 13 were incorrectly classified as class 0, and 32 were incorrectly classified as class 1.\n",
    "#### 1 instance of class 3 was incorrectly classified as class 1."
   ]
  },
  {
   "cell_type": "code",
   "execution_count": null,
   "id": "23737706-3cfb-4f53-9124-b51487cd21dd",
   "metadata": {},
   "outputs": [],
   "source": []
  }
 ],
 "metadata": {
  "kernelspec": {
   "display_name": "Python 3 (ipykernel)",
   "language": "python",
   "name": "python3"
  },
  "language_info": {
   "codemirror_mode": {
    "name": "ipython",
    "version": 3
   },
   "file_extension": ".py",
   "mimetype": "text/x-python",
   "name": "python",
   "nbconvert_exporter": "python",
   "pygments_lexer": "ipython3",
   "version": "3.9.13"
  }
 },
 "nbformat": 4,
 "nbformat_minor": 5
}
